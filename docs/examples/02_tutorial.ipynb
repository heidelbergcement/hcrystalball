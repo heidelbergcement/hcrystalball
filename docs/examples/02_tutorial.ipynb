{
 "cells": [
  {
   "cell_type": "markdown",
   "metadata": {},
   "source": [
    "# Tutorial\n",
    "<div style=\"display:inline-block;\">\n",
    "    <img src=\"https://raw.githubusercontent.com/heidelbergcement/hcrystalball/master/docs/_static/hcrystal_ball_logo_black.svg\" width=\"150px\"> \n",
    "</div>\n",
    "\n",
    "In following notebooks we will cover the major part of hcrystalball library."
   ]
  },
  {
   "cell_type": "markdown",
   "metadata": {},
   "source": [
    "## Wrappers\n",
    "1. [Introduction to wrappers](tutorial/wrappers/01_wrappers_intro.ipynb)\n",
    "2. [Autoregressive Modelling in Sklearn](tutorial/wrappers/02_ar_modelling_in_sklearn.ipynb)\n",
    "3. [Using Sklearn Pipelines](tutorial/wrappers/03_sklearn_pipeline.ipynb)\n",
    "4. [Seasonalities and Holidays](tutorial/wrappers/04_seasonalities_and_holidays.ipynb)\n",
    "5. [Model Selection](tutorial/wrappers/05_model_selection.ipynb)\n",
    "6. [Advanced Prophet Usage](tutorial/wrappers/06_advanced_prophet.ipynb)\n",
    "7. [Advanced Sarimax Usage](tutorial/wrappers/07_advanced_sarimax.ipynb)\n",
    "8. [Ensembles](tutorial/wrappers/08_ensembles.ipynb)\n",
    "9. [Transforming Target](tutorial/wrappers/09_transforming_target.ipynb)\n",
    "\n",
    "## Model Selection\n",
    "1. [ModelSelector Basics](tutorial/model_selection/01_model_selector_basic.ipynb)\n",
    "2. [ModelSelectorResult Basics](tutorial/model_selection/02_model_selector_result_basic.ipynb)\n",
    "3. [ModelSelector Advanced](tutorial/model_selection/03_model_selector_advanced.ipynb)"
   ]
  },
  {
   "cell_type": "markdown",
   "metadata": {},
   "source": [
    "**Note** *: Wrappers for non core installation are showcased in the content. You can install missing dependencies or exchange e.g. ProphetWrapper with get_sklearn_wrapper(RandomForestRegressor).*"
   ]
  }
 ],
 "metadata": {
  "kernelspec": {
   "display_name": "Python 3",
   "language": "python",
   "name": "python3"
  },
  "language_info": {
   "codemirror_mode": {
    "name": "ipython",
    "version": 3
   },
   "file_extension": ".py",
   "mimetype": "text/x-python",
   "name": "python",
   "nbconvert_exporter": "python",
   "pygments_lexer": "ipython3",
   "version": "3.7.6"
  }
 },
 "nbformat": 4,
 "nbformat_minor": 4
}
