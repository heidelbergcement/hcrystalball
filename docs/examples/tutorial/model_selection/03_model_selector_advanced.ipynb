{
 "cells": [
  {
   "cell_type": "markdown",
   "metadata": {},
   "source": [
    "# Advanced Large Scale learning with ModelSelector\n",
    "Very often we have many different products, regions, countries, shops...for which we need to delivery forecast. This can be easily done with `ModelSelector`"
   ]
  },
  {
   "cell_type": "code",
   "execution_count": null,
   "metadata": {},
   "outputs": [],
   "source": [
    "import pandas as pd\n",
    "import matplotlib.pyplot as plt\n",
    "plt.style.use('seaborn')\n",
    "plt.rcParams['figure.figsize'] = [12, 6]"
   ]
  },
  {
   "cell_type": "code",
   "execution_count": null,
   "metadata": {},
   "outputs": [],
   "source": [
    "from hcrystalball.model_selection import ModelSelector\n",
    "from hcrystalball.utils import get_sales_data\n",
    "from hcrystalball.wrappers import get_sklearn_wrapper\n",
    "from sklearn.linear_model import LinearRegression\n",
    "from sklearn.ensemble import RandomForestRegressor"
   ]
  },
  {
   "cell_type": "markdown",
   "metadata": {},
   "source": [
    "## Get Dummy Data"
   ]
  },
  {
   "cell_type": "code",
   "execution_count": null,
   "metadata": {},
   "outputs": [],
   "source": [
    "df = get_sales_data(n_dates=365*2, \n",
    "                    n_assortments=2, \n",
    "                    n_states=2, \n",
    "                    n_stores=2)#.assign(BelgiumHolidays=\"BE\")"
   ]
  },
  {
   "cell_type": "code",
   "execution_count": null,
   "metadata": {},
   "outputs": [],
   "source": [
    "df.head()"
   ]
  },
  {
   "cell_type": "markdown",
   "metadata": {},
   "source": [
    "### Get predefined sklearn models, holidays and exogenous variables\n",
    "Here for the sake of time, we will use the advantage of the ``create_gridsearch`` method for cv splits, default scorer etc. and just extend empty grid with two models"
   ]
  },
  {
   "cell_type": "code",
   "execution_count": null,
   "metadata": {},
   "outputs": [],
   "source": [
    "ms = ModelSelector(\n",
    "    frequency='D', \n",
    "    horizon=10, \n",
    "    country_code_column='HolidayCode',\n",
    "#     country_code_column=['HolidayCode','BelgiumHolidays'])\n",
    ")"
   ]
  },
  {
   "cell_type": "code",
   "execution_count": null,
   "metadata": {},
   "outputs": [],
   "source": [
    "# see full default parameter grid in hands on exercise\n",
    "ms.create_gridsearch(\n",
    "    n_splits=2,\n",
    "    between_split_lag=5, # create overlapping cv_splits\n",
    "    sklearn_models=False,\n",
    "    sklearn_models_optimize_for_horizon=False,\n",
    "    autosarimax_models=False,\n",
    "    prophet_models=False,\n",
    "    tbats_models=False,\n",
    "    exp_smooth_models=False,\n",
    "    average_ensembles=False,\n",
    "    stacking_ensembles=False,\n",
    "    exog_cols=['Open','Promo','SchoolHoliday','Promo2'],\n",
    "    holidays_days_before=2, \n",
    "    holidays_days_after=1, \n",
    "    holidays_bridge_days=True, \n",
    ")"
   ]
  },
  {
   "cell_type": "code",
   "execution_count": null,
   "metadata": {},
   "outputs": [],
   "source": [
    "ms.add_model_to_gridsearch(get_sklearn_wrapper(LinearRegression))\n",
    "ms.add_model_to_gridsearch(get_sklearn_wrapper(RandomForestRegressor))"
   ]
  },
  {
   "cell_type": "markdown",
   "metadata": {},
   "source": [
    "### Run model selection with partitions\n",
    "This can be done within classical for loop that enables you to see progress bar, or within parallelized prefect flow in case you would define `parallel_over_columns`, which must be subset of `partition_columns` and optionally add `executor` to point to your running `dask` cluster. Default uses `LocalExecutor`, you might also try `LocalDaskExecutor`, that prefect will spin up for you `DaskExecutor` if you have one already running and you want to connect to it."
   ]
  },
  {
   "cell_type": "code",
   "execution_count": null,
   "metadata": {},
   "outputs": [],
   "source": [
    "df"
   ]
  },
  {
   "cell_type": "code",
   "execution_count": null,
   "metadata": {},
   "outputs": [],
   "source": [
    "# from prefect.engine.executors import LocalDaskExecutor\n",
    "ms.select_model(df=df,\n",
    "                target_col_name='Sales',\n",
    "                partition_columns=['Assortment', 'State', 'Store'],               \n",
    "#                 parallel_over_columns=['Assortment'],\n",
    "#                 executor = LocalDaskExecutor(),\n",
    "               )"
   ]
  },
  {
   "cell_type": "code",
   "execution_count": null,
   "metadata": {},
   "outputs": [],
   "source": [
    "ms.get_partitions(as_dataframe=True)"
   ]
  },
  {
   "cell_type": "code",
   "execution_count": null,
   "metadata": {},
   "outputs": [],
   "source": [
    "ms.plot_results(partitions=ms.partitions[:2], plot_from='2015-06');"
   ]
  }
 ],
 "metadata": {
  "kernelspec": {
   "display_name": "Python 3",
   "language": "python",
   "name": "python3"
  },
  "language_info": {
   "codemirror_mode": {
    "name": "ipython",
    "version": 3
   },
   "file_extension": ".py",
   "mimetype": "text/x-python",
   "name": "python",
   "nbconvert_exporter": "python",
   "pygments_lexer": "ipython3",
   "version": "3.7.6"
  }
 },
 "nbformat": 4,
 "nbformat_minor": 4
}
