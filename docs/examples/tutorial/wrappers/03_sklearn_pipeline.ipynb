{
 "cells": [
  {
   "cell_type": "markdown",
   "metadata": {},
   "source": [
    "# Sklearn Pipelines\n",
    "The best way to leverage whole sklearn landscape is to use TSColumnTransformer - it's the hcrystalball implementation of ColumnTransformer which works on pandas dataframes and hcrystalball API, other functionality like pipeline, transformers can be leveraged with TSColumnTransformer directly from sklearn. hcrystalball's own transformers do not need TSColumnTransformer, but might be used with it as well - depending on whether they work on column or index (or both)"
   ]
  },
  {
   "cell_type": "code",
   "execution_count": null,
   "metadata": {},
   "outputs": [],
   "source": [
    "import pandas as pd\n",
    "import matplotlib.pyplot as plt\n",
    "plt.style.use('seaborn')\n",
    "plt.rcParams['figure.figsize'] = [12, 6]"
   ]
  },
  {
   "cell_type": "code",
   "execution_count": null,
   "metadata": {},
   "outputs": [],
   "source": [
    "from hcrystalball.wrappers import get_sklearn_wrapper\n",
    "from hcrystalball.compose import TSColumnTransformer\n",
    "from hcrystalball.feature_extraction import SeasonalityTransformer\n",
    "from sklearn.preprocessing import StandardScaler\n",
    "from sklearn.pipeline import Pipeline\n",
    "from sklearn.ensemble import RandomForestRegressor\n",
    "import numpy as np"
   ]
  },
  {
   "cell_type": "code",
   "execution_count": null,
   "metadata": {},
   "outputs": [],
   "source": [
    "from hcrystalball.utils import get_sales_data\n",
    "\n",
    "df = get_sales_data(n_dates=365*2, \n",
    "                    n_assortments=1, \n",
    "                    n_states=1, \n",
    "                    n_stores=1)\n",
    "X, y = pd.DataFrame(index=df.index), df['Sales']"
   ]
  },
  {
   "cell_type": "markdown",
   "metadata": {},
   "source": [
    "## Building pipeline with exogenous variables"
   ]
  },
  {
   "cell_type": "code",
   "execution_count": null,
   "metadata": {},
   "outputs": [],
   "source": [
    "# you can use standard sklearn transformations for your exogenous variables\n",
    "X['trend'] = np.arange(len(X))"
   ]
  },
  {
   "cell_type": "code",
   "execution_count": null,
   "metadata": {},
   "outputs": [],
   "source": [
    "# add standard scaler to the trend and let the date column pass in raw form\n",
    "sklearns_native_transformers = TSColumnTransformer(\n",
    "    transformers=[\n",
    "        ('scaler', StandardScaler(), ['trend'])\n",
    "    ])    \n",
    "# define random forest model\n",
    "rf_model = get_sklearn_wrapper(RandomForestRegressor)\n",
    "# glue it together\n",
    "sklearn_model_pipeline = Pipeline([\n",
    "    ('sklearns_native_transformers', sklearns_native_transformers), \n",
    "    ('seasonality', SeasonalityTransformer(auto=True, freq='D')),\n",
    "    ('model', rf_model)\n",
    "]) "
   ]
  },
  {
   "cell_type": "code",
   "execution_count": null,
   "metadata": {},
   "outputs": [],
   "source": [
    "preds = (sklearn_model_pipeline.fit(X[:-10], y[:-10])\n",
    "         .predict(X[-10:])\n",
    "         .merge(y, left_index=True, right_index=True, how='outer')\n",
    "         .tail(50)\n",
    ")\n",
    "\n",
    "preds.plot(title=f\"MAE:{(preds['Sales']-preds['sklearn']).abs().mean()}\");"
   ]
  }
 ],
 "metadata": {
  "kernelspec": {
   "display_name": "Python 3",
   "language": "python",
   "name": "python3"
  },
  "language_info": {
   "codemirror_mode": {
    "name": "ipython",
    "version": 3
   },
   "file_extension": ".py",
   "mimetype": "text/x-python",
   "name": "python",
   "nbconvert_exporter": "python",
   "pygments_lexer": "ipython3",
   "version": "3.7.6"
  }
 },
 "nbformat": 4,
 "nbformat_minor": 4
}
